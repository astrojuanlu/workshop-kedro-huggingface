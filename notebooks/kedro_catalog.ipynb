{
 "cells": [
  {
   "cell_type": "code",
   "execution_count": 1,
   "metadata": {},
   "outputs": [],
   "source": [
    "from kedro.io import DataCatalog\n",
    "from kedro.config import OmegaConfigLoader"
   ]
  },
  {
   "cell_type": "code",
   "execution_count": 2,
   "metadata": {},
   "outputs": [
    {
     "data": {
      "text/plain": [
       "{'submissions-raw': {'type': 'reddit_summarizer.datasets.DeltaPolarsDataset',\n",
       "  'filepath': 's3://reddit-submissions/submissions-raw',\n",
       "  'credentials': 'minio_object_store'}}"
      ]
     },
     "execution_count": 2,
     "metadata": {},
     "output_type": "execute_result"
    }
   ],
   "source": [
    "config_loader = OmegaConfigLoader(conf_source=\"../conf\", default_run_env=\"demo\")\n",
    "config_loader.get(\"catalog\")"
   ]
  },
  {
   "cell_type": "code",
   "execution_count": 3,
   "metadata": {},
   "outputs": [
    {
     "data": {
      "text/plain": [
       "['submissions-raw']"
      ]
     },
     "execution_count": 3,
     "metadata": {},
     "output_type": "execute_result"
    }
   ],
   "source": [
    "catalog = DataCatalog.from_config(config_loader.get(\"catalog\"), credentials=config_loader.get(\"credentials\"))\n",
    "catalog.list()"
   ]
  },
  {
   "cell_type": "code",
   "execution_count": 4,
   "metadata": {},
   "outputs": [
    {
     "name": "stderr",
     "output_type": "stream",
     "text": [
      "\u001b[90m[\u001b[0m2024-04-08T07:27:36Z \u001b[33mWARN \u001b[0m aws_config::imds::region\u001b[90m]\u001b[0m failed to load region from IMDS err=failed to load IMDS session token: dispatch failure: timeout: error trying to connect: HTTP connect timeout occurred after 1s: HTTP connect timeout occurred after 1s: timed out (FailedToLoadToken(FailedToLoadToken { source: DispatchFailure(DispatchFailure { source: ConnectorError { kind: Timeout, source: hyper::Error(Connect, HttpTimeoutError { kind: \"HTTP connect\", duration: 1s }), connection: Unknown } }) }))\n",
      "\u001b[90m[\u001b[0m2024-04-08T07:27:37Z \u001b[33mWARN \u001b[0m aws_config::imds::region\u001b[90m]\u001b[0m failed to load region from IMDS err=failed to load IMDS session token: dispatch failure: timeout: error trying to connect: HTTP connect timeout occurred after 1s: HTTP connect timeout occurred after 1s: timed out (FailedToLoadToken(FailedToLoadToken { source: DispatchFailure(DispatchFailure { source: ConnectorError { kind: Timeout, source: hyper::Error(Connect, HttpTimeoutError { kind: \"HTTP connect\", duration: 1s }), connection: Unknown } }) }))\n",
      "\u001b[90m[\u001b[0m2024-04-08T07:27:37Z \u001b[33mWARN \u001b[0m aws_config::imds::region\u001b[90m]\u001b[0m failed to load region from IMDS err=failed to load IMDS session token: dispatch failure: io error: error trying to connect: tcp connect error: Host is down (os error 64): tcp connect error: Host is down (os error 64): Host is down (os error 64) (FailedToLoadToken(FailedToLoadToken { source: DispatchFailure(DispatchFailure { source: ConnectorError { kind: Io, source: hyper::Error(Connect, ConnectError(\"tcp connect error\", Os { code: 64, kind: Uncategorized, message: \"Host is down\" })), connection: Unknown } }) }))\n"
     ]
    }
   ],
   "source": [
    "df = catalog.load(\"submissions-raw\")"
   ]
  },
  {
   "cell_type": "code",
   "execution_count": 5,
   "metadata": {},
   "outputs": [
    {
     "data": {
      "text/html": [
       "<div><style>\n",
       ".dataframe > thead > tr,\n",
       ".dataframe > tbody > tr {\n",
       "  text-align: right;\n",
       "  white-space: pre-wrap;\n",
       "}\n",
       "</style>\n",
       "<small>shape: (2, 12)</small><table border=\"1\" class=\"dataframe\"><thead><tr><th>title</th><th>author_name</th><th>creation_datetime</th><th>subreddit_name</th><th>num_comments</th><th>sfw</th><th>score</th><th>upvote_ratio</th><th>is_self</th><th>permalink</th><th>selftext</th><th>flair_text</th></tr><tr><td>str</td><td>str</td><td>datetime[μs]</td><td>str</td><td>i64</td><td>bool</td><td>i64</td><td>f64</td><td>bool</td><td>str</td><td>str</td><td>str</td></tr></thead><tbody><tr><td>&quot;AITA: Bathroom…</td><td>&quot;Used_Warning_2…</td><td>2024-03-24 13:05:45</td><td>&quot;r/AmItheAsshol…</td><td>2</td><td>true</td><td>1</td><td>1.0</td><td>true</td><td>&quot;/r/AmItheAssho…</td><td>&quot;My little brot…</td><td>null</td></tr><tr><td>&quot;AITA for sayin…</td><td>&quot;Every-Disaster…</td><td>2024-03-24 13:07:01</td><td>&quot;r/AmItheAsshol…</td><td>2</td><td>true</td><td>0</td><td>0.5</td><td>true</td><td>&quot;/r/AmItheAssho…</td><td>&quot;I (15F) my mom…</td><td>null</td></tr></tbody></table></div>"
      ],
      "text/plain": [
       "shape: (2, 12)\n",
       "┌────────────┬───────────┬───────────┬───────────┬───┬─────────┬───────────┬───────────┬───────────┐\n",
       "│ title      ┆ author_na ┆ creation_ ┆ subreddit ┆ … ┆ is_self ┆ permalink ┆ selftext  ┆ flair_tex │\n",
       "│ ---        ┆ me        ┆ datetime  ┆ _name     ┆   ┆ ---     ┆ ---       ┆ ---       ┆ t         │\n",
       "│ str        ┆ ---       ┆ ---       ┆ ---       ┆   ┆ bool    ┆ str       ┆ str       ┆ ---       │\n",
       "│            ┆ str       ┆ datetime[ ┆ str       ┆   ┆         ┆           ┆           ┆ str       │\n",
       "│            ┆           ┆ μs]       ┆           ┆   ┆         ┆           ┆           ┆           │\n",
       "╞════════════╪═══════════╪═══════════╪═══════════╪═══╪═════════╪═══════════╪═══════════╪═══════════╡\n",
       "│ AITA:      ┆ Used_Warn ┆ 2024-03-2 ┆ r/AmItheA ┆ … ┆ true    ┆ /r/AmIthe ┆ My little ┆ null      │\n",
       "│ Bathroom   ┆ ing_2162  ┆ 4         ┆ sshole    ┆   ┆         ┆ Asshole/c ┆ brother   ┆           │\n",
       "│ situation  ┆           ┆ 13:05:45  ┆           ┆   ┆         ┆ omments/1 ┆           ┆           │\n",
       "│            ┆           ┆           ┆           ┆   ┆         ┆ bmkau…    ┆ I went to ┆           │\n",
       "│            ┆           ┆           ┆           ┆   ┆         ┆           ┆ op…       ┆           │\n",
       "│ AITA for   ┆ Every-Dis ┆ 2024-03-2 ┆ r/AmItheA ┆ … ┆ true    ┆ /r/AmIthe ┆ I (15F)   ┆ null      │\n",
       "│ saying my  ┆ aster1853 ┆ 4         ┆ sshole    ┆   ┆         ┆ Asshole/c ┆ my mom    ┆           │\n",
       "│ mom isn't  ┆           ┆ 13:07:01  ┆           ┆   ┆         ┆ omments/1 ┆ (52F)     ┆           │\n",
       "│ my …       ┆           ┆           ┆           ┆   ┆         ┆ bmkbp…    ┆ never had ┆           │\n",
       "│            ┆           ┆           ┆           ┆   ┆         ┆           ┆ a…        ┆           │\n",
       "└────────────┴───────────┴───────────┴───────────┴───┴─────────┴───────────┴───────────┴───────────┘"
      ]
     },
     "execution_count": 5,
     "metadata": {},
     "output_type": "execute_result"
    }
   ],
   "source": [
    "df.head()"
   ]
  },
  {
   "cell_type": "code",
   "execution_count": null,
   "metadata": {},
   "outputs": [],
   "source": []
  }
 ],
 "metadata": {
  "kernelspec": {
   "display_name": ".venv",
   "language": "python",
   "name": "python3"
  },
  "language_info": {
   "codemirror_mode": {
    "name": "ipython",
    "version": 3
   },
   "file_extension": ".py",
   "mimetype": "text/x-python",
   "name": "python",
   "nbconvert_exporter": "python",
   "pygments_lexer": "ipython3",
   "version": "3.11.5"
  }
 },
 "nbformat": 4,
 "nbformat_minor": 2
}
